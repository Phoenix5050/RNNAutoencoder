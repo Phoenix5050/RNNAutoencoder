{
 "cells": [
  {
   "cell_type": "markdown",
   "metadata": {
    "colab_type": "text",
    "id": "9galkl_T3jpd"
   },
   "source": [
    "# CSC321 Project 4.\n",
    "\n",
    "**Deadline**: Thursday, April. 2, by 9pm\n",
    "\n",
    "**Submission**: \n",
    "If you are using Google Colab or Jupyter Notebook,\n",
    "the easiest way to submit the assignment is to submit a PDF export of the completed notebook. \n",
    "If you are using Python, please submit a PDF file containing your code, written solutions,\n",
    "and any outputs that we are using to evaluate your work.\n",
    "\n",
    "**Late Submission**: Please see the syllabus for the late submission criteria.\n",
    "\n",
    "This time, we're back to the application of deep learning to natural language processing.\n",
    "We will be working with a subset of Reuters news headlines that are collected over 15 months,\n",
    "covering all of 2019, plus a few months in 2018 and in a few months of this year.\n",
    "\n",
    "In particular, we will be building an **autoencoder** of news headlines. The idea is similar\n",
    "to the kind of image autoencoder we built in lecture: we will have an **encoder** that\n",
    "maps a news headline to a vector embedding, and then a **decoder** that reconstructs\n",
    "the news headline. Both our encoder and decoder networks will be Recurrent Neural Networks,\n",
    "so that you have a chance to practice building\n",
    "\n",
    "- a neural network that takes a sequence as an input\n",
    "- a neural network that generates a sequence as an output\n",
    "\n",
    "This project is organized as follows:\n",
    "\n",
    "- Question 1. Exploring the data\n",
    "- Question 2. Building the autoencoder\n",
    "- Question 3. Training the autoencoder using *data augmentation*\n",
    "- Question 4. Analyzing the embeddings (interpolating between headlines)\n",
    "\n",
    "Furthermore, we'll be introducing the idea of **data augmentation** for improving of\n",
    "the robustness of the autoencoder, as proposed by Shen et al [1].\n",
    "\n",
    "[1] Shen et al (2019) \"Educating Text Autoencoders: Latent Representation Guidance via Denoising\" https://arxiv.org/pdf/1905.12777.pdf"
   ]
  },
  {
   "cell_type": "code",
   "execution_count": 2,
   "metadata": {
    "colab": {},
    "colab_type": "code",
    "id": "1XW5oa7Z3jpf"
   },
   "outputs": [],
   "source": [
    "import torch\n",
    "import torch.nn as nn\n",
    "import torch.nn.functional as F\n",
    "import torch.optim as optim\n",
    "\n",
    "import matplotlib.pyplot as plt\n",
    "import numpy as np\n",
    "import random\n",
    "\n",
    "%matplotlib inline"
   ]
  },
  {
   "cell_type": "markdown",
   "metadata": {
    "colab_type": "text",
    "id": "rgOBmrny3jpp"
   },
   "source": [
    "## Question 1\n",
    "\n",
    "Download the files `reuters_train.txt` and `reuters_valid.txt`, and upload them to Google Drive.\n",
    "\n",
    "Then, mount Google Drive from your Google Colab notebook:"
   ]
  },
  {
   "cell_type": "code",
   "execution_count": 3,
   "metadata": {
    "colab": {
     "base_uri": "https://localhost:8080/",
     "height": 128
    },
    "colab_type": "code",
    "id": "eY0Xe9Tx3jpu",
    "outputId": "9b104245-13e1-4fe4-c90f-1b45a511919f"
   },
   "outputs": [],
   "source": [
    "#from google.colab import drive\n",
    "#drive.mount('/content/gdrive')\n",
    "\n",
    "#train_path = '/content/gdrive/My Drive/CSC321/reuters_train.txt' # Update me\n",
    "#valid_path = '/content/gdrive/My Drive/CSC321/reuters_valid.txt' # Update me\n",
    "\n",
    "train_path = 'C:/Users/aaron/Documents/School/CSC321/Projects/Project 4/reuters_train.txt' # Update me\n",
    "valid_path = 'C:/Users/aaron/Documents/School/CSC321/Projects/Project 4/reuters_valid.txt' # Update me"
   ]
  },
  {
   "cell_type": "markdown",
   "metadata": {
    "colab_type": "text",
    "id": "iQC2ovGs3jpz"
   },
   "source": [
    "As promised in previous lecture, we will be using PyTorch's `torchtext` utilities to help us load, process,\n",
    "and batch the data. We'll be using a `TabularDataset` to load our data, which works well on structured\n",
    "CSV data with fixed columns (e.g. a column for the sequence, a column for the label). Our tabular dataset\n",
    "is even simpler: we have no labels, just some text. So, we are treating our data as a table with one field\n",
    "representing our sequence."
   ]
  },
  {
   "cell_type": "code",
   "execution_count": 4,
   "metadata": {
    "colab": {},
    "colab_type": "code",
    "id": "avMkH1iB3jp2"
   },
   "outputs": [],
   "source": [
    "import torchtext\n",
    "\n",
    "# Tokenization function to separate a headline into words\n",
    "def tokenize_headline(headline):\n",
    "    \"\"\"Returns the sequence of words in the string headline. We also\n",
    "    prepend the \"<bos>\" or beginning-of-string token, and append the\n",
    "    \"<eos>\" or end-of-string token to the headline.\n",
    "    \"\"\"\n",
    "    return (\"<bos> \" + headline + \" <eos>\").split()\n",
    "\n",
    "# Data field (column) representing our *text*.\n",
    "text_field = torchtext.data.Field(\n",
    "    sequential=True,            # this field consists of a sequence\n",
    "    tokenize=tokenize_headline, # how to split sequences into words\n",
    "    include_lengths=True,       # to track the length of sequences, for batching\n",
    "    batch_first=True,           # similar to batch_first=True in nn.RNN demonstrated in lecture\n",
    "    use_vocab=True)             # to turn each character into an integer index\n",
    "train_data = torchtext.data.TabularDataset(\n",
    "    path=train_path,                # data file path\n",
    "    format=\"tsv\",                   # fields are separated by a tab\n",
    "    fields=[('title', text_field)]) # list of fields (we have only one)"
   ]
  },
  {
   "cell_type": "markdown",
   "metadata": {
    "colab_type": "text",
    "id": "dvzMZvJL3jp8"
   },
   "source": [
    "### Part (a) -- 2 points\n",
    "\n",
    "Draw histograms of the number of words per headline in our training set.\n",
    "Excluding the `<bos>` and `<eos>` tags in your computation.\n",
    "Explain why we would be interested in such histograms."
   ]
  },
  {
   "cell_type": "code",
   "execution_count": 5,
   "metadata": {
    "colab": {
     "base_uri": "https://localhost:8080/",
     "height": 333
    },
    "colab_type": "code",
    "id": "-HjIlxaj3jp9",
    "outputId": "5ca8a724-07e7-4fbc-a148-f7e9dc285914"
   },
   "outputs": [
    {
     "data": {
      "image/png": "[encoded data removed]",
      "text/plain": [
       "<Figure size 432x288 with 1 Axes>"
      ]
     },
     "metadata": {
      "needs_background": "light"
     },
     "output_type": "display_data"
    },
    {
     "data": {
      "text/plain": [
       "\"   \\nWe would be interested in such histograms because we want to be able to\\ntrain our model to predict that headlines might be of a certain length\\nand if it were to see a headline that is too long or too short, it would\\ntry normalize the headline's length to closer match the average.\\n\""
      ]
     },
     "execution_count": 5,
     "metadata": {},
     "output_type": "execute_result"
    }
   ],
   "source": [
    "# Include your histogram and your written explanations\n",
    "\n",
    "# Here is an example of how to plot a histogram in matplotlib:\n",
    "# plt.hist(np.random.normal(0, 1, 40), bins=20)\n",
    "\n",
    "# Here are some sample code that uses the train_data object:\n",
    "l = []\n",
    "for ex in train_data:\n",
    "    l.append(len(ex.title)-2)\n",
    "\n",
    "plt.hist(l, bins=np.arange(0,30,dtype=int)-0.5)\n",
    "plt.title(\"Length of Headlines\")\n",
    "plt.xlabel(\"words in title\")\n",
    "plt.ylabel(\"frequency\")\n",
    "plt.show()\n",
    "\n",
    "\"\"\"   \n",
    "We would be interested in such histograms because we want to be able to\n",
    "train our model to predict that headlines might be of a certain length\n",
    "and if it were to see a headline that is too long or too short, it would\n",
    "try normalize the headline's length to closer match the average.\n",
    "\"\"\""
   ]
  },
  {
   "cell_type": "markdown",
   "metadata": {
    "colab_type": "text",
    "id": "MRGuoArk3jqG"
   },
   "source": [
    "### Part (b) -- 2 points\n",
    "\n",
    "How many distinct words appear in the training data?\n",
    "Exclude the `<bos>` and `<eos>` tags in your computation."
   ]
  },
  {
   "cell_type": "code",
   "execution_count": 6,
   "metadata": {
    "colab": {
     "base_uri": "https://localhost:8080/",
     "height": 35
    },
    "colab_type": "code",
    "id": "XARxhpfN3jqH",
    "outputId": "5e9b341a-45cd-40d8-b830-e678ca36726e"
   },
   "outputs": [
    {
     "name": "stdout",
     "output_type": "stream",
     "text": [
      "51298\n"
     ]
    }
   ],
   "source": [
    "# Report your values here. Make sure that you report the actual values,\n",
    "# and not just the code used to get those values\n",
    "\n",
    "# You might find the python class Counter from the collections package useful\n",
    "from collections import Counter\n",
    "\n",
    "c = Counter()\n",
    "for ex in train_data:\n",
    "    c.update(Counter(ex.title))\n",
    "\n",
    "del c['<bos>']\n",
    "del c['<eos>']\n",
    "print(len(c))"
   ]
  },
  {
   "cell_type": "markdown",
   "metadata": {
    "colab_type": "text",
    "id": "66eoo_9U3jqQ"
   },
   "source": [
    "### Part (c) -- 2 points\n",
    "\n",
    "The distribution of *words* will have a long tail, meaning that there are some words\n",
    "that will appear very often, and many words that will appear infrequently. How many words\n",
    "appear exactly once in the training set? Exactly twice?"
   ]
  },
  {
   "cell_type": "code",
   "execution_count": 7,
   "metadata": {
    "colab": {
     "base_uri": "https://localhost:8080/",
     "height": 53
    },
    "colab_type": "code",
    "id": "RaCA26EQ3jqR",
    "outputId": "fdc15a04-f331-4158-e53f-f3225f683c1c"
   },
   "outputs": [
    {
     "name": "stdout",
     "output_type": "stream",
     "text": [
      "Number of words that appear exactly once in the training set is 19854\n",
      "Number of words that appear exactly twice in the training set is 7193\n"
     ]
    }
   ],
   "source": [
    "# Report your values here. Make sure that you report the actual values,\n",
    "# and not just the code used to get those values\n",
    "ones = 0\n",
    "twos = 0\n",
    "for word in c:\n",
    "    if c[word] == 1:\n",
    "        ones += 1\n",
    "    elif c[word] == 2:\n",
    "        twos += 1\n",
    "print(\"Number of words that appear exactly once in the training set is \" + str(ones))\n",
    "print(\"Number of words that appear exactly twice in the training set is \" + str(twos))"
   ]
  },
  {
   "cell_type": "markdown",
   "metadata": {
    "colab_type": "text",
    "id": "8cOc9Ksg3jqX"
   },
   "source": [
    "### Part (d) -- 2 points\n",
    "\n",
    "Explain why we may wish to replace these infrequent\n",
    "words with an `<unk>` tag, instead of learning embeddings for these rare words.\n",
    "(Hint: Consider words in the validation set that might not appear in training)"
   ]
  },
  {
   "cell_type": "code",
   "execution_count": 8,
   "metadata": {
    "colab": {
     "base_uri": "https://localhost:8080/",
     "height": 55
    },
    "colab_type": "code",
    "id": "lwFhMLus3jqY",
    "outputId": "b4efe9aa-6363-4c85-ec65-7cbf416213fe"
   },
   "outputs": [
    {
     "data": {
      "text/plain": [
       "'\\nThese words appear so infrequently that if there ever was a case where the model\\ndecided they should be used, it would most likely be an overfit, that is, the\\nmodel has seen the exact sentence before and is putting in the exact word it\\nknows would fit since it has memorized the sentence. This is bad because\\nusually nouns and adjectives can be exchanged in a sentence with similar nouns\\nand adjectives to make an equally valid sentence. If the validation set contains\\nsentences of the exact same form but with a different word, the model may\\noverfit due to a single appearance of a word in the vocabulary. This means that it\\ncannot properly generate ANY OTHER SENTENCES of the same form even if they\\nare equally valid. This is why we should add the <unk> tag. Because unk is short\\nfor unknown, if we leave the model with using unknown as a prediction, it is\\nless prone to overfit due to single instance sentence and word choices.\\n'"
      ]
     },
     "execution_count": 8,
     "metadata": {},
     "output_type": "execute_result"
    }
   ],
   "source": [
    "# Include your explanation here\n",
    "'''\n",
    "These words appear so infrequently that if there ever was a case where the model\n",
    "decided they should be used, it would most likely be an overfit, that is, the\n",
    "model has seen the exact sentence before and is putting in the exact word it\n",
    "knows would fit since it has memorized the sentence. This is bad because\n",
    "usually nouns and adjectives can be exchanged in a sentence with similar nouns\n",
    "and adjectives to make an equally valid sentence. If the validation set contains\n",
    "sentences of the exact same form but with a different word, the model may\n",
    "overfit due to a single appearance of a word in the vocabulary. This means that it\n",
    "cannot properly generate ANY OTHER SENTENCES of the same form even if they\n",
    "are equally valid. This is why we should add the <unk> tag. Because unk is short\n",
    "for unknown, if we leave the model with using unknown as a prediction, it is\n",
    "less prone to overfit due to single instance sentence and word choices.\n",
    "'''"
   ]
  },
  {
   "cell_type": "markdown",
   "metadata": {
    "colab_type": "text",
    "id": "FrNt8LJL3jqc"
   },
   "source": [
    "### Part (e) -- 2 points\n",
    "\n",
    "We will only model the top 9995 words in the training set, excluding the tags\n",
    "`<bos>`, `<eos>`, and other possible tags we haven't mentioned yet\n",
    "(including those, we will have a vocabulary size of exactly 10000 tokens).\n",
    "\n",
    "What percentage of word occurrences will be supported? Alternatively, what percentage\n",
    "of word occurrences in the training set will be set to the `<unk>` tag?"
   ]
  },
  {
   "cell_type": "code",
   "execution_count": 9,
   "metadata": {
    "colab": {
     "base_uri": "https://localhost:8080/",
     "height": 53
    },
    "colab_type": "code",
    "id": "Dj9t3xfK3jqe",
    "outputId": "eec24c1a-a06d-48fe-aaf9-5c4b4cfaa135"
   },
   "outputs": [
    {
     "name": "stdout",
     "output_type": "stream",
     "text": [
      "The percentage of word occurrences will be supported is 19.484190416780383%\n",
      "The percentage of word occurrences will be set to the <unk> tag are 0.5272525244648915%\n"
     ]
    }
   ],
   "source": [
    "# Report your values here. Make sure that you report the actual values,\n",
    "# and not just the code used to get those values\n",
    "print(\"The percentage of word occurrences will be supported is \" + str((9995/len(c))*100) + \"%\")\n",
    "print(\"The percentage of word occurrences will be set to the <unk> tag are \" + str(100*(ones + twos)/len(c)) + \"%\")"
   ]
  },
  {
   "cell_type": "markdown",
   "metadata": {
    "colab_type": "text",
    "id": "EtHxA4eT3jqj"
   },
   "source": [
    "Our `torchtext` package will help us keep track of our list of unique words, known\n",
    "as a **vocabulary**. A vocabulary also assigns a unique integer index to each word.\n",
    "You can interpret these indices as sparse representations of one-hot vectors."
   ]
  },
  {
   "cell_type": "code",
   "execution_count": 10,
   "metadata": {
    "colab": {
     "base_uri": "https://localhost:8080/",
     "height": 108
    },
    "colab_type": "code",
    "id": "xio0-q_n3jqk",
    "outputId": "6fbbcdcc-02eb-4e11-ecf5-66e5e950392a"
   },
   "outputs": [
    {
     "name": "stdout",
     "output_type": "stream",
     "text": [
      "0\n",
      "on\n",
      "10000\n",
      "<unk>\n",
      "<pad>\n"
     ]
    }
   ],
   "source": [
    "# Build the vocabulary based on the training data. The vocabulary\n",
    "# can have at most 9997 words (9995 words + the <bos> and <eos> token)\n",
    "text_field.build_vocab(train_data, max_size=9997)\n",
    "\n",
    "# This vocabulary object will be helpful for us\n",
    "vocab = text_field.vocab\n",
    "print(vocab.stoi[\"hello\"]) # for instances, we can convert from string to (unique) index\n",
    "print(vocab.itos[10])      # ... and from word index to string\n",
    "\n",
    "# The size of our vocabulary is actually 10000\n",
    "vocab_size = len(text_field.vocab.stoi)\n",
    "print(vocab_size) # should be 10000\n",
    "\n",
    "# The reason is that torchtext adds two more tokens for us:\n",
    "print(vocab.itos[0]) # <unk> represents an unknown word not in our vocabulary\n",
    "print(vocab.itos[1]) # <pad> will be used to pad short sequences for batching"
   ]
  },
  {
   "cell_type": "markdown",
   "metadata": {
    "colab_type": "text",
    "id": "FDTOHP7D3jqq"
   },
   "source": [
    "## Question 2\n",
    "\n",
    "Building a text autoencoder is a little more complicated than an image autoencoder, so\n",
    "we'll need to thoroughly understand the model that we want to build before actually building\n",
    "our model. Note that the best and fastest way to complete this assignment is to spend a *lot*\n",
    "of time upfront understanding the architecture. The explanations are quite dense, and you\n",
    "might need to stop every sentence or two to understand what's going on.\n",
    "You won't feel productive for a while since you won't be writing code,\n",
    "but this initial investment will help you become more productive later on.\n",
    "Understanding this architecture will also help you understand other machine learning\n",
    "papers you might come across. So, take a deep breath, and let's do this!\n",
    "\n",
    "Here is a diagram showing our desired architecture:\n",
    "\n",
    "<img src=\"https://www.cs.toronto.edu/~lczhang/321/hw/p4model.png\" width=\"95%\" />\n",
    "\n",
    "There are two main components to the model: the **encoder** and the **decoder**.\n",
    "As always with neural networks, we'll first describe how to make\n",
    "**predictions** with of these components. Let's get started:\n",
    "\n",
    "The **encoder** will take a sequence of words (a headline) as *input*, and produce an\n",
    "embedding (a vector) that represents the entire headline. In the diagram above,\n",
    "the vector ${\\bf h}^{(7)}$ is the vector embedding containing information about \n",
    "the entire headline.  This portion is very similar\n",
    "to the sentiment analysis RNN that we discussed in lecture (but without the fully-connected\n",
    "layer that makes a prediction).\n",
    "\n",
    "The **decoder** will take an embedding (in the diagram, the vector ${\\bf h}^{(7)}$) as input,\n",
    "and uses a separate RNN to **generate a sequence of words**. To generate a sequence of words,\n",
    "the decoder needs to do the following:\n",
    "\n",
    "1) Determine the previous word that was generated. This previous word will act as ${\\bf x}^{(t)}$\n",
    "   to our RNN, and will be used to update the hidden state ${\\bf m}^{(t)}$. Since each of our\n",
    "   sequences begin with the `<bos>` token, we'll set ${\\bf x}^{(1)}$ to be the `<bos>` token.\n",
    "2) Compute the updates to the hidden state ${\\bf m}^{(t)}$ based on the previous hidden state\n",
    "   ${\\bf m}^{(t-1)}$ and ${\\bf x}^{(t)}$. Intuitively, this hidden state vector ${\\bf m}^{(t)}$\n",
    "   is a representation of *all the words we still need to generate*.\n",
    "3) We'll use a fully-connected layer to take a hidden state ${\\bf m}^{(t)}$, and determine\n",
    "   *what the next word should be*. This fully-connected layer solves a *classification problem*,\n",
    "   since we are trying to choose a word out of $K=10000$ distinct words. As in a classification\n",
    "   problem, the fully-connected neural network will compute a *probability distribution* over\n",
    "   these 10,000 words. In the diagram, we are using ${\\bf z}^{(t)}$ to represent the logits,\n",
    "   or the pre-softmax activation values representing the probability distribution.\n",
    "4) We will need to *sample* an actual word from this probability distribution ${\\bf z}^{(t)}$.\n",
    "   We can do this in a number of ways, which we'll discuss in question 3. For now, you can \n",
    "   imagine your favourite way of picking a word given a distribution over words.\n",
    "5) This word we choose will become the next input ${\\bf x}^{(t+1)}$ to our RNN, which is used\n",
    "   to update our hidden state ${\\bf m}^{(t+1)}$---i.e. to determine what are the remaining\n",
    "   words to be generated.\n",
    "\n",
    "We can repeat this process until we see an `<eos>` token generated, or until the generated\n",
    "sequence becomes too long.\n",
    "\n",
    "Unfortunately, we can't *train* this autoencoder in the way we just described. That is,\n",
    "we can't just compare our generated sequence with our ground-truth sequence, and get\n",
    "gradients. Both sequences are **discrete** entities, so we won't be able to compute\n",
    "gradients at all! In particular, **sampling is a discrete process**, and so we won't be\n",
    "able to back-propagate through any kind of sampling that we do.\n",
    "\n",
    "You might wonder whether we can get away with computing gradients by comparing the\n",
    "distributions ${\\bf z}^{(t)}$ with the ground truth words at each time step. Like any\n",
    "multi-class classification problem, we can represent the ground-truth words as a one-hot\n",
    "vector, and use the cross-entropy loss.\n",
    "\n",
    "In theory, we can do this. In practice, there are a few issues. One is that the generated\n",
    "sequence might be longer or shorter than the actual sequence, meaning that there may\n",
    "be more/fewer ${\\bf z}^{(t)}$s than ground-truth words. Another more insidious issue\n",
    "is that the **gradients will become very high-variance and unstable**, because\n",
    "**early mistakes will easily throw the model off-track**. Early in training,\n",
    "our model is unlikely to produce the right answer in step $t=1$, so the gradients\n",
    "we obtain based on the other time steps will not be very useful.\n",
    "\n",
    "At this point, you might have some ideas about \"hacks\" we can use to make training\n",
    "work. Fortunately, there is one very well-established solution called\n",
    "**teacher forcing** which we can use for training:\n",
    "instead of *sampling* the next word based on ${\\bf z}^{(t)}$, we will forgo sampling,\n",
    "and use the **ground truth** ${\\bf x}^{(t)}$ in the next step.\n",
    "\n",
    "Here is a diagram showing how we can use **teacher forcing** to train our model:\n",
    "\n",
    "<img src=\"https://www.cs.toronto.edu/~lczhang/321/hw/p4model_tf.png\" width=\"95%\" />\n",
    "\n",
    "We will use the RNN generator to compute the logits\n",
    "${\\bf z}^{(1)},{\\bf z}^{(2)},  \\cdots {\\bf z}^{(T)}$. These distributions\n",
    "can be compared to the ground-truth words using the cross-entropy loss.\n",
    "The loss function for this model will be the sum of the losses across each $t$.\n",
    "(This is similar to what we did in a pixel-wise prediction problem.)\n",
    "\n",
    "We'll train the encoder and decoder model simultaneously. There are several components\n",
    "to our model that contain tunable weights:\n",
    "\n",
    "- The word embedding that maps a word to a vector representation.\n",
    "  In theory, we could use GloVe embeddings, or initialize our parameters to\n",
    "  GloVe embeddings. To prevent students who don't have Colab access\n",
    "  from having to download a 1GB file, we won't do that.\n",
    "  The word embedding component is represented with blue arrows in the diagram.\n",
    "- The encoder RNN (which will use Gated Recurrent Units) that computes the\n",
    "  embedding over the entire headline. The encoder RNN \n",
    "  is represented with black arrows in the diagram.\n",
    "- The decoder RNN (which will also use Gated Recurrent Units) that computes\n",
    "  hidden states, which are vectors representing what words are to be generated.\n",
    "  The decoder RNN is represented with gray arrows in the diagram.\n",
    "- The **projection MLP** (a fully-connected layer) that computes\n",
    "  a distribution over the next word to generate, given a decoder RNN hidden\n",
    "  state.\n",
    "\n",
    "## Part (a) -- 10 pts\n",
    "\n",
    "Complete the code for the AutoEncoder class below by:\n",
    "\n",
    "1. Filling in the missing numbers in the `__init__` method using\n",
    "   the parameters `vocab_size`, `emb_size`, and `hidden_size`. (4 points)\n",
    "2. Complete the `forward` method, which uses teacher forcing\n",
    "   and computes the logits $z^{(t)}$ of the reconstruction of\n",
    "   the sequence. (4 points)\n",
    "\n",
    "You should first try to understand the `encode` and `decode` methods,\n",
    "which are written for you. The `encode` method mimics the discriminative\n",
    "RNN we wrote in class for sentiment analysis.  The `decode` method is\n",
    "a bit more challenging. You might want to scroll down to the\n",
    "`sample_sequence` function to see how this function will be called.\n",
    "\n",
    "You can (but don't have to) use the `encode` and `decode` method in\n",
    "your `forward` method. In either case, be very careful of the input\n",
    "that you feed into ether `decode` or to `self.decoder_rnn`.\n",
    "Refer to the teacher-forcing diagram."
   ]
  },
  {
   "cell_type": "code",
   "execution_count": 11,
   "metadata": {
    "colab": {},
    "colab_type": "code",
    "id": "JCzDNfDT3jqr"
   },
   "outputs": [],
   "source": [
    "class AutoEncoder(nn.Module):\n",
    "    def __init__(self, vocab_size=10000, emb_size=1000, hidden_size=1000):\n",
    "        \"\"\"\n",
    "        A text autoencoder. The parameters\n",
    "        - vocab_size: number of unique words/tokens in the vocabulary\n",
    "        - emb_size: size of the word embeddings $x^{(t)}$\n",
    "        - hidden_size: size of the hidden states in both the\n",
    "        encoder RNN ($h^{(t)}$) and the\n",
    "        decoder RNN ($m^{(t)}$)\n",
    "        \"\"\"\n",
    "        super().__init__()\n",
    "        self.vocab_size = vocab_size\n",
    "        self.embed = nn.Embedding(num_embeddings=vocab_size,\n",
    "        embedding_dim=emb_size)\n",
    "        self.encoder_rnn = nn.GRU(input_size=emb_size,\n",
    "        hidden_size=hidden_size,\n",
    "        batch_first=True)\n",
    "        self.decoder_rnn = nn.GRU(input_size=emb_size,\n",
    "        hidden_size=hidden_size,\n",
    "        batch_first=True)\n",
    "        self.proj = nn.Linear(in_features=emb_size,\n",
    "        out_features=vocab_size)\n",
    "\n",
    "    def encode(self, inp):\n",
    "        \"\"\"\n",
    "        Computes the encoder output given a sequence of words.\n",
    "        \"\"\"\n",
    "        emb = self.embed(inp)\n",
    "        out, last_hidden = self.encoder_rnn(emb)\n",
    "        return last_hidden\n",
    "\n",
    "    def decode(self, inp, hidden=None):\n",
    "        \"\"\"\n",
    "        Computes the decoder output given a sequence of words, and\n",
    "        (optionally) an initial hidden state.\n",
    "        \"\"\"\n",
    "        emb = self.embed(inp)\n",
    "        out, last_hidden = self.decoder_rnn(emb, hidden)\n",
    "        out_seq = self.proj(out)\n",
    "        return out_seq, last_hidden\n",
    "\n",
    "    def forward(self, inp):\n",
    "        \"\"\"\n",
    "        Compute both the encoder and decoder forward pass\n",
    "        given an integer input sequence inp with shape [batch_size, seq_length],\n",
    "        with inp[a,b] representing the (index in our vocabulary of) the b-th word\n",
    "        of the a-th training example.\n",
    "\n",
    "        This function should return the logits $z^{(t)}$ in a tensor of shape\n",
    "        [batch_size, seq_length - 1, vocab_size], computed using *teaching forcing*.\n",
    "\n",
    "        The (seq_length - 1) part is not a typo. If you don't understand why\n",
    "        we need to subtract 1, refer to the teacher-forcing diagram above.\n",
    "        \"\"\"\n",
    "\n",
    "        out = torch.zeros([inp.shape[0], inp.shape[1]-1, self.vocab_size])\n",
    "\n",
    "        last_hidden = self.encode(inp)\n",
    "        for i in range(inp.shape[1]-1):\n",
    "            out[:, i, :] = torch.FloatTensor(self.decode(inp[:, 0:i+1], last_hidden)[0][:, i, :])\n",
    "        return out"
   ]
  },
  {
   "cell_type": "markdown",
   "metadata": {
    "colab_type": "text",
    "id": "qqXFTJP43jqw"
   },
   "source": [
    "### Part (b) -- 5 pts\n",
    "\n",
    "To check that your model is set up correctly, we'll train our AutoEncoder\n",
    "neural network for at least 300 iterations to memorize this sequence:"
   ]
  },
  {
   "cell_type": "code",
   "execution_count": 12,
   "metadata": {
    "colab": {},
    "colab_type": "code",
    "id": "FK1WzxDY3jqx"
   },
   "outputs": [],
   "source": [
    "headline = train_data[42].title\n",
    "input_seq = torch.Tensor([vocab.stoi[w] for w in headline]).long().unsqueeze(0)"
   ]
  },
  {
   "cell_type": "markdown",
   "metadata": {
    "colab_type": "text",
    "id": "UAzOfAWW3jq4"
   },
   "source": [
    "We are looking for the way that you set up your loss function\n",
    "corresponding to the figure above.\n",
    "**Be very careful of off-by-ones.**\n",
    "\n",
    "\n",
    "Note that the Cross Entropy Loss expects a rank-2 tensor as its first\n",
    "argument, and a rank-1 tensor as its second argument. You will\n",
    "need to properly reshape your data to be able to compute the loss."
   ]
  },
  {
   "cell_type": "code",
   "execution_count": 13,
   "metadata": {
    "colab": {
     "base_uri": "https://localhost:8080/",
     "height": 126
    },
    "colab_type": "code",
    "id": "z7i0IwaJ3jq5",
    "outputId": "9df802e2-0756-4d63-8c38-5f6c4f02ac00"
   },
   "outputs": [
    {
     "name": "stdout",
     "output_type": "stream",
     "text": [
      "[Iter 50] Loss 0.855394\n",
      "[Iter 100] Loss 0.249132\n",
      "[Iter 150] Loss 0.152625\n",
      "[Iter 200] Loss 0.105321\n",
      "[Iter 250] Loss 0.077865\n",
      "[Iter 300] Loss 0.060357\n"
     ]
    }
   ],
   "source": [
    "model = AutoEncoder(vocab_size, 128, 128)\n",
    "optimizer = optim.Adam(model.parameters(), lr=0.001)\n",
    "criterion = nn.CrossEntropyLoss()\n",
    "\n",
    "ts = input_seq\n",
    "\n",
    "for it in range(300):\n",
    "\n",
    "    zs = model(input_seq)\n",
    "\n",
    "    loss = criterion(zs[:, 0, :], torch.tensor([ts[0, 1]]))\n",
    "    for i in range(1, zs.shape[1]):\n",
    "        loss += criterion(zs[:, i, :], torch.tensor([ts[0, i+1]]))\n",
    "    loss.backward()\n",
    "    optimizer.step()\n",
    "    optimizer.zero_grad()\n",
    "\n",
    "    if (it+1) % 50 == 0:\n",
    "        print(\"[Iter %d] Loss %f\" % (it+1, float(loss)))"
   ]
  },
  {
   "cell_type": "markdown",
   "metadata": {
    "colab_type": "text",
    "id": "hvcGnSzR3jq_"
   },
   "source": [
    "### Part (c) -- 2 pt\n",
    "\n",
    "Once you are satisfied with your model, encode your input using\n",
    "the RNN encoder, and sample some sequences from the decoder. The \n",
    "sampling code is provided to you, and performs the computation\n",
    "from the first diagram (without teacher forcing).\n",
    "\n",
    "Note that we are sampling from a multi-nomial distribution described\n",
    "by the logits $z^{(t)}$. For example, if our distribution is [80%, 20%]\n",
    "over a vocabulary of two words, then we will choose the first word\n",
    "with 80% probability and the second word with 20% probability.\n",
    "\n",
    "Call `sample_sequence` at least 5 times, with the default temperature\n",
    "value. Make sure to include the generated sequences in your PDF\n",
    "report."
   ]
  },
  {
   "cell_type": "code",
   "execution_count": 14,
   "metadata": {
    "colab": {
     "base_uri": "https://localhost:8080/",
     "height": 199
    },
    "colab_type": "code",
    "id": "mpWAdyR43jrB",
    "outputId": "2f83a03d-5a92-4501-f963-96d519abf8c8"
   },
   "outputs": [
    {
     "name": "stdout",
     "output_type": "stream",
     "text": [
      "['zambian', 'president', 'swears', 'in', 'new', 'army', 'chief']\n",
      "['zambian', 'president', 'swears', 'in', 'new', 'army', 'chief']\n",
      "['zambian', 'president', 'swears', 'in', 'new', 'army', 'chief']\n",
      "['zambian', 'president', 'swears', 'in', 'new', 'army', 'chief']\n",
      "['zambian', 'president', 'swears', 'in', 'new', 'army', 'chief']\n",
      "['zambian', 'president', 'swears', 'in', 'new', 'army', 'chief']\n",
      "['zambian', 'president', 'swears', 'in', 'new', 'army', 'chief']\n",
      "['zambian', 'president', 'swears', 'in', 'new', 'army', 'chief']\n",
      "['zambian', 'president', 'swears', 'in', 'new', 'army', 'chief']\n",
      "['zambian', 'president', 'swears', 'in', 'new', 'army', 'chief']\n"
     ]
    }
   ],
   "source": [
    "def sample_sequence(model, hidden, max_len=20, temperature=1):\n",
    "    \"\"\"\n",
    "    Return a sequence generated from the model's decoder\n",
    "        - model: an instance of the AutoEncoder model\n",
    "        - hidden: a hidden state (e.g. computed by the encoder)\n",
    "        - max_len: the maximum length of the generated sequence\n",
    "        - temperature: described in Part (d)\n",
    "    \"\"\"\n",
    "    # We'll store our generated sequence here\n",
    "    generated_sequence = []\n",
    "    # Set input to the <BOS> token\n",
    "    inp = torch.Tensor([text_field.vocab.stoi[\"<bos>\"]]).long()\n",
    "    for p in range(max_len):\n",
    "        # compute the output and next hidden unit\n",
    "        output, hidden = model.decode(inp.unsqueeze(0), hidden)\n",
    "        # Sample from the network as a multinomial distribution\n",
    "        output_dist = output.data.view(-1).div(temperature).exp()\n",
    "        top_i = int(torch.multinomial(output_dist, 1)[0])\n",
    "        # Add predicted word to string and use as next input\n",
    "        word = text_field.vocab.itos[top_i]\n",
    "        # Break early if we reach <eos>\n",
    "        if word == \"<eos>\":\n",
    "            break\n",
    "        generated_sequence.append(word)\n",
    "        inp = torch.Tensor([top_i]).long()\n",
    "    return generated_sequence\n",
    "\n",
    "# Your solutions go here\n",
    "hidden = model.encode(input_seq)\n",
    "print(sample_sequence(model, hidden))\n",
    "print(sample_sequence(model, hidden))\n",
    "print(sample_sequence(model, hidden))\n",
    "print(sample_sequence(model, hidden))\n",
    "print(sample_sequence(model, hidden))\n",
    "print(sample_sequence(model, hidden))\n",
    "print(sample_sequence(model, hidden))\n",
    "print(sample_sequence(model, hidden))\n",
    "print(sample_sequence(model, hidden))\n",
    "print(sample_sequence(model, hidden))"
   ]
  },
  {
   "cell_type": "markdown",
   "metadata": {
    "colab_type": "text",
    "id": "9AlBwtUz3jrF"
   },
   "source": [
    "### Part (d) -- 3 pt\n",
    "\n",
    "The multi-nomial distribution can be manipulated using the `temperature`\n",
    "setting. This setting can be used to make the distribution \"flatter\" (e.g.\n",
    "more likely to generate different words) or \"peakier\" (e.g. less likely\n",
    "to generate different words).\n",
    "\n",
    "Call `sample_sequence` at least 5 times each for at least 3 different\n",
    "temperature settings (e.g. 1.5, 2, and 5). Explain why we generally\n",
    "don't want the temperature setting to be too **large**."
   ]
  },
  {
   "cell_type": "code",
   "execution_count": 15,
   "metadata": {
    "colab": {
     "base_uri": "https://localhost:8080/",
     "height": 237
    },
    "colab_type": "code",
    "id": "W5GnEDzQ3jrG",
    "outputId": "20ced874-2978-445f-e793-e607fe84534e"
   },
   "outputs": [
    {
     "name": "stdout",
     "output_type": "stream",
     "text": [
      "['softens', 'army', 'amd', 'controversial', 'kfc', 'army', 'stuttgart', 'considered', 'brf', 'summary', 'intesa', 'new', 'determine']\n",
      "['schools', 'including', 'following', 'zambian', 'kerr', 'casts', 'peugeot', 'islamic', 'markets-stocks', 'army', 'allergan', 'responsible', 'study', 'priests', 'every', 'received', 'information', 'divorce', 'stability', 'handelsblatt']\n",
      "['henry', 'prayers', 'district', 'surprised', 'tricky', 'disrupt', 'psa', 'whale', 'commitments', 'endorse', 'wynn', 'peloton', 's', 'blasts', 'ammunition', 'ceremony', 'z', '_num_-as', 'kill', 'trouble']\n",
      "['faa', 'imposes', 'inaugural', 'traveling', 'vettel', 'carefully', 'big', 'conviction', 'longest', 'barkindo', 'tumble', 'ackman', 'giant', 'cenbank', 'bask', 'self-driving', 'treating', 'crop', 'goma', 'secretary']\n",
      "['down', 'transneft', 'lift', 'lender', 'afghanistan', 'pressures', 'ea', 'wipe', 'barring', 'opinion', 'prepares', 'weaken', 'flowers', 'bonuses', 'finally', 'doping', 'importer', 'pro-government', 'babies', 'nio']\n",
      "['zambian', 'president', 'swears', 'in', 'new', 'army', 'chief']\n",
      "['zambian', 'president', 'swears', 'in', 'new', 'army', 'chief']\n",
      "['zambian', 'president', 'swears', 'in', 'new', 'army', 'chief']\n",
      "['zambian', 'president', 'swears', 'in', 'new', 'army', 'chief']\n",
      "['zambian', 'president', 'swears', 'in', 'new', 'army', 'chief']\n"
     ]
    },
    {
     "data": {
      "text/plain": [
       "'\\nWe don\\'t want to set the temperature setting to be too large because\\na larger temperature setting will dictate that the generated sequences\\nwill have more random changes in their wording. The final generated\\nsequence will be less reliant on the model that we trained, and more\\nreliant on random probability. This will result in more incoherent sentence\\nstructure since there will be no \"sense\" of grammer or form like there\\nwould be if the model was followed more closely.\\n'"
      ]
     },
     "execution_count": 15,
     "metadata": {},
     "output_type": "execute_result"
    }
   ],
   "source": [
    "# Include the generated sequences and explanation in your PDF report.\n",
    "print(sample_sequence(model, hidden, temperature=1.5))\n",
    "print(sample_sequence(model, hidden, temperature=2))\n",
    "print(sample_sequence(model, hidden, temperature=5))\n",
    "print(sample_sequence(model, hidden, temperature=10))\n",
    "print(sample_sequence(model, hidden, temperature=20))\n",
    "print(sample_sequence(model, hidden, temperature=0.95))\n",
    "print(sample_sequence(model, hidden, temperature=0.8))\n",
    "print(sample_sequence(model, hidden, temperature=0.5))\n",
    "print(sample_sequence(model, hidden, temperature=0.25))\n",
    "print(sample_sequence(model, hidden, temperature=0.2))\n",
    "\n",
    "\"\"\"\n",
    "We don't want to set the temperature setting to be too large because\n",
    "a larger temperature setting will dictate that the generated sequences\n",
    "will have more random changes in their wording. The final generated\n",
    "sequence will be less reliant on the model that we trained, and more\n",
    "reliant on random probability. This will result in more incoherent sentence\n",
    "structure since there will be no \"sense\" of grammer or form like there\n",
    "would be if the model was followed more closely.\n",
    "\"\"\""
   ]
  },
  {
   "cell_type": "markdown",
   "metadata": {
    "colab_type": "text",
    "id": "g2ne6gsj3jrN"
   },
   "source": [
    "## Question 3\n",
    "\n",
    "It turns out that getting good results from a text auto-encoder is very difficult,\n",
    "and that it is very easy for our model to **overfit**. We have discussed several methods\n",
    "that we can use to prevent overfitting, and we'll introduce one more today:\n",
    "**data augmentation**.\n",
    "\n",
    "The idea behind data augmentation is to artificially increase the number of training\n",
    "examples by \"adding noise\" to the image. For example, during AlexNet training,\n",
    "the authors randomly cropped $224\\times 224$\n",
    "regions of a $256 \\times 256$ pixel image to increase the amount of training data.\n",
    "The authors also flipped the image left/right (but not up/down---why?).\n",
    "Machine learning practitioners can also add Gaussian noise to the image.\n",
    "\n",
    "When we use data augmentation to train an *autoencoder*, we typically to only add\n",
    "the noise to the input, and expect the reconstruction to be *noise free*.\n",
    "This makes the task of the autoencoder even more difficult. An autoencoder trained\n",
    "with noisy inputs is called a **denoising auto-encoder**. For simplicity, we will\n",
    "*not* build a denoising autoencoder today.\n",
    "\n",
    "### Part (a) -- 3pt\n",
    "\n",
    "Give three more examples of data augmentation techniques that we could use if\n",
    "we were training an **image** autoencoder. What are different ways that we can\n",
    "change our input?"
   ]
  },
  {
   "cell_type": "code",
   "execution_count": 16,
   "metadata": {
    "colab": {
     "base_uri": "https://localhost:8080/",
     "height": 55
    },
    "colab_type": "code",
    "id": "WP2BVIDg3jrO",
    "outputId": "63768444-c1f2-46c8-81b6-29352a8b5acb"
   },
   "outputs": [
    {
     "data": {
      "text/plain": [
       "'\\nThree examples of data augmentation techniques that we could use if we were training an image autoencoder are:\\nscaling the image, and rotating the image, and image translations. This would change the input by making many or\\nevery pixel used as input in an image have a different value when compared to the original.\\n'"
      ]
     },
     "execution_count": 16,
     "metadata": {},
     "output_type": "execute_result"
    }
   ],
   "source": [
    "# Include your three answers\n",
    "\"\"\"\n",
    "Three examples of data augmentation techniques that we could use if we were training an image autoencoder are:\n",
    "scaling the image, and rotating the image, and image translations. This would change the input by making many or\n",
    "every pixel used as input in an image have a different value when compared to the original.\n",
    "\"\"\""
   ]
  },
  {
   "cell_type": "markdown",
   "metadata": {
    "colab_type": "text",
    "id": "-0aZLNo_3jrS"
   },
   "source": [
    "### Part (b) -- 2pt\n",
    "\n",
    "We will add noise to our headlines using a few different techniques:\n",
    "\n",
    "1. Shuffle the words in the headline, taking care that words don't end up too far from where they were initially\n",
    "2. Drop (remove) some words \n",
    "3. Replace some words with a blank word (a `<pad>` token)\n",
    "4. Replace some words with a random word \n",
    "\n",
    "The code for adding these types of noise is provided for you:"
   ]
  },
  {
   "cell_type": "code",
   "execution_count": 17,
   "metadata": {
    "colab": {},
    "colab_type": "code",
    "id": "mhPCmNdn3jrT"
   },
   "outputs": [],
   "source": [
    "def tokenize_and_randomize(headline,\n",
    "                           drop_prob=0.1,  # probability of dropping a word\n",
    "                           blank_prob=0.1, # probability of \"blanking\" out a word\n",
    "                           sub_prob=0.1,   # probability of substituting a word with a random one\n",
    "                           shuffle_dist=3): # maximum distance to shuffle a word\n",
    "    \"\"\"\n",
    "    Add 'noise' to a headline by slightly shuffling the word order,\n",
    "    dropping some words, blanking out some words (replacing with the <pad> token)\n",
    "    and substituting some words with random ones.\n",
    "    \"\"\"\n",
    "    headline = [vocab.stoi[w] for w in headline.split()]\n",
    "    n = len(headline)\n",
    "    # shuffle\n",
    "    headline = [headline[i] for i in get_shuffle_index(n, shuffle_dist)]\n",
    "\n",
    "    new_headline = [vocab.stoi['<bos>']]\n",
    "    for w in headline:\n",
    "        if random.random() < drop_prob:\n",
    "            # drop the word\n",
    "            pass\n",
    "        elif random.random() < blank_prob:\n",
    "            # replace with blank word\n",
    "            new_headline.append(vocab.stoi[\"<pad>\"])\n",
    "        elif random.random() < sub_prob:\n",
    "            # substitute word with another word\n",
    "            new_headline.append(random.randint(0, vocab_size - 1))\n",
    "        else:\n",
    "            # keep the original word\n",
    "            new_headline.append(w)\n",
    "    new_headline.append(vocab.stoi['<eos>'])\n",
    "    return new_headline\n",
    "\n",
    "def get_shuffle_index(n, max_shuffle_distance):\n",
    "    \"\"\" This is a helper function used to shuffle a headline with n words,\n",
    "    where each word is moved at most max_shuffle_distance. The function does\n",
    "    the following: \n",
    "       1. start with the *unshuffled* index of each word, which\n",
    "          is just the values [0, 1, 2, ..., n]\n",
    "       2. perturb these \"index\" values by a random floating-point value between\n",
    "          [0, max_shuffle_distance]\n",
    "       3. use the sorted position of these values as our new index\n",
    "    \"\"\"\n",
    "    index = np.arange(n)\n",
    "    perturbed_index = index + np.random.rand(n) * 3\n",
    "    new_index = sorted(enumerate(perturbed_index), key=lambda x: x[1])\n",
    "    return [index for (index, pert) in new_index]"
   ]
  },
  {
   "cell_type": "markdown",
   "metadata": {
    "colab_type": "text",
    "id": "DxF_60hv3jrY"
   },
   "source": [
    "Call the function `tokenize_and_randomize` 5 times on a headline of your\n",
    "choice. Make sure to include both your original headline, and the five new\n",
    "headlines in your report."
   ]
  },
  {
   "cell_type": "code",
   "execution_count": 18,
   "metadata": {
    "colab": {
     "base_uri": "https://localhost:8080/",
     "height": 235
    },
    "colab_type": "code",
    "id": "ZM8X-leZ3jrY",
    "outputId": "904b07f9-bdbf-4975-ed86-b7f099e41687"
   },
   "outputs": [
    {
     "name": "stdout",
     "output_type": "stream",
     "text": [
      "Original headline\n",
      "update _num_-glowing new year 's eve ball rises above a sodden times square\n",
      "New headline 1\n",
      "<unk> update te 's year eve ball rises a <pad> times <unk> nineteen\n",
      "New headline 2\n",
      "special <unk> <pad> new eve 's swap a <unk> times square\n",
      "New headline 3\n",
      "update new <unk> <pad> 's lima eve rises a above times square <unk>\n",
      "New headline 4\n",
      "update overshadow <unk> year 's eve ball a rises ebitda square\n",
      "New headline 5\n",
      "update <pad> <unk> year 's <pad> eve rises a above times aleppo square\n"
     ]
    }
   ],
   "source": [
    "# Report your values here. Make sure that you report the actual values,\n",
    "# and not just the code used to get those values\n",
    "headline_array = train_data[7].title\n",
    "headline = \"\"\n",
    "for i in range(len(headline_array)):\n",
    "    if i == 1:\n",
    "        headline = headline_array[i]\n",
    "    elif i != 0 and i != len(headline_array)-1:\n",
    "        headline += \" \" + headline_array[i]\n",
    "        \n",
    "\n",
    "print(\"Original headline\")\n",
    "print(headline)\n",
    "for i in range(5):\n",
    "    new_headline = \"\"\n",
    "    print(\"New headline \" + str(i+1))\n",
    "    tar = tokenize_and_randomize(headline)\n",
    "    for j in range(len(tar)):\n",
    "        if j == 1:\n",
    "            new_headline = vocab.itos[tar[j]]\n",
    "        elif j != 0 and j != len(tar)-1:\n",
    "            new_headline += \" \" + vocab.itos[tar[j]]\n",
    "    print(new_headline)"
   ]
  },
  {
   "cell_type": "markdown",
   "metadata": {
    "colab_type": "text",
    "id": "hApzraig3jrd"
   },
   "source": [
    "### Part (c) -- 3 pt\n",
    "\n",
    "The training code that we use to train the model is mostly provided for you. \n",
    "The only part we left blank are the parts from Q2(b). Complete the code,\n",
    "and train a new AutoEncoder model for 1 epoch. You can train your model\n",
    "for longer if you want, but training tend to take a long time,\n",
    "so we're only checking to see that your training loss is trending down.\n",
    "\n",
    "If you are using Google Colab, you can use a GPU for this portion.\n",
    "Go to \"Runtime\" => \"Change Runtime Type\"  and set \"Hardware acceleration\" to GPU.\n",
    "Your Colab session will restart.\n",
    "You can move your model to the GPU by typing `model.cuda()`, and move\n",
    "other tensors to GPU (e.g. `xs = xs.cuda()`). To move a model back to CPU,\n",
    "type `model.cpu`. To move a tensor back, use `xs = xs.cpu()`. For training,\n",
    "your model and inputs need to be on the *same device*."
   ]
  },
  {
   "cell_type": "code",
   "execution_count": 28,
   "metadata": {
    "colab": {},
    "colab_type": "code",
    "id": "sscbyPfU3jre"
   },
   "outputs": [
    {
     "name": "stdout",
     "output_type": "stream",
     "text": [
      "[Iter 1] Loss 193.750580\n",
      "[Iter 2] Loss 143.186676\n",
      "[Iter 3] Loss 174.300903\n",
      "[Iter 4] Loss 118.735611\n",
      "[Iter 5] Loss 107.530113\n",
      "[Iter 6] Loss 129.876495\n"
     ]
    }
   ],
   "source": [
    "def train_autoencoder(model, batch_size=64, learning_rate=0.001, num_epochs=10):\n",
    "    optimizer = optim.Adam(model.parameters(), lr=learning_rate)\n",
    "    criterion = nn.CrossEntropyLoss()\n",
    "\n",
    "    for ep in range(num_epochs):\n",
    "        # We will perform data augmentation by re-reading the input each time\n",
    "        field = torchtext.data.Field(sequential=True,\n",
    "                                     tokenize=tokenize_and_randomize, # <-- data augmentation\n",
    "                                     include_lengths=True,\n",
    "                                     batch_first=True,\n",
    "                                     use_vocab=False, # <-- the tokenization function replaces this\n",
    "                                     pad_token=vocab.stoi['<pad>'])\n",
    "        dataset = torchtext.data.TabularDataset(train_path, \"tsv\", [('title', field)])\n",
    "\n",
    "        # This BucketIterator will handle padding of sequences that are not of the same length\n",
    "        train_iter = torchtext.data.BucketIterator(dataset,\n",
    "                                                   batch_size=batch_size,\n",
    "                                                   sort_key=lambda x: len(x.title), # to minimize padding\n",
    "                                                   repeat=False)\n",
    "        for it, ((xs, lengths), _) in enumerate(train_iter):\n",
    "            # Fill in the training code here\n",
    "            zs = model(xs)\n",
    "            loss = 0\n",
    "            for batch in range(xs.shape[0]):\n",
    "                for i in range(zs.shape[1]-1):\n",
    "                    loss += criterion(zs[batch, i, :].unsqueeze(0), torch.tensor([xs[batch, i+1]]))\n",
    "            loss.backward()\n",
    "            optimizer.step()\n",
    "            optimizer.zero_grad()\n",
    "\n",
    "            if (it+1) % 1 == 0:\n",
    "                print(\"[Iter %d] Loss %f\" % (it+1, float(loss)))\n",
    "                \n",
    "            if it == 5:\n",
    "                return\n",
    "\n",
    "        # Optional: Compute and track validation loss\n",
    "        #val_loss = 0\n",
    "        #val_n = 0\n",
    "        #for it, ((xs, lengths), _) in enumerate(valid_iter):\n",
    "        #    zs = model(xs)\n",
    "        #    loss = None # TODO\n",
    "        #    val_loss += float(loss)\n",
    "\n",
    "# Include your training curve or output to show that your training loss is trending down\n",
    "train_autoencoder(model, num_epochs=1)"
   ]
  },
  {
   "cell_type": "markdown",
   "metadata": {
    "colab_type": "text",
    "id": "rGLgRmID3jri"
   },
   "source": [
    "### Part (d) -- 2 pt\n",
    "\n",
    "This model requires many epochs (>50) to train, and is quite slow without using a GPU.\n",
    "You can train a model yourself, or you can load the model weights that we have trained,\n",
    "and available on the course website https://www.cs.toronto.edu/~lczhang/321/files/p4model.pk (11MB).\n",
    "\n",
    "Assuming that your `AutoEncoder` is set up correctly, the following code should run without\n",
    "error."
   ]
  },
  {
   "cell_type": "code",
   "execution_count": 20,
   "metadata": {
    "colab": {},
    "colab_type": "code",
    "id": "h63PeQjk3jrk",
    "outputId": "e7ffe381-0a58-4588-8ff6-e058e9ad2eda"
   },
   "outputs": [
    {
     "data": {
      "text/plain": [
       "<All keys matched successfully>"
      ]
     },
     "execution_count": 20,
     "metadata": {},
     "output_type": "execute_result"
    }
   ],
   "source": [
    "model = AutoEncoder(10000, 128, 128)\n",
    "checkpoint_path = 'C:/Users/aaron/Documents/School/CSC321/Projects/Project 4/p4model.pk'\n",
    "model.load_state_dict(torch.load(checkpoint_path))"
   ]
  },
  {
   "cell_type": "markdown",
   "metadata": {
    "colab_type": "text",
    "id": "8yY2vtoN3jro"
   },
   "source": [
    "Then, repeat your code from Q2(d), for `train_data[10].title`\n",
    "with temperature settings 0.7, 0.9, and 1.5.\n",
    "Explain why we generally don't want the temperature setting to\n",
    "be too **small**."
   ]
  },
  {
   "cell_type": "code",
   "execution_count": 21,
   "metadata": {
    "colab": {},
    "colab_type": "code",
    "id": "9vFT3EQk3jrp",
    "outputId": "ac6c9159-2387-4848-8286-061766edde1a"
   },
   "outputs": [
    {
     "name": "stdout",
     "output_type": "stream",
     "text": [
      "['wall', 'street', 'rises', ',', 'limps', 'across', 'the', 'finish', 'line', 'of', 'a', 'turbulent', 'year']\n",
      "['wall', 'street', 'rises', ',', 'limps', 'early', 'man', 'unresolved', '<pad>', '_num_', ',', 'governor', 'last']\n",
      "['wall', 'street', 'rises', ',', 'stem', 'adds', 'grand', 'flat', 'sentence', 'police', 'market', 'northern', 'leads']\n"
     ]
    },
    {
     "data": {
      "text/plain": [
       "\"\\nWe generally don't want the temperature setting to\\nbe too **small** because there will not be much deviation\\nbetween sample sequences. Lower temperature will mean that\\nless of our model's predictions will be left up to probability.\\n\""
      ]
     },
     "execution_count": 21,
     "metadata": {},
     "output_type": "execute_result"
    }
   ],
   "source": [
    "# Include the generated sequences and explanation in your PDF report.\n",
    "\n",
    "headline = train_data[10].title\n",
    "input_seq = torch.Tensor([vocab.stoi[w] for w in headline]).unsqueeze(0).long()\n",
    "\n",
    "hidden = model.encode(input_seq)\n",
    "print(sample_sequence(model, hidden, temperature=0.7))\n",
    "print(sample_sequence(model, hidden, temperature=0.9))\n",
    "print(sample_sequence(model, hidden, temperature=1.5))\n",
    "\n",
    "\"\"\"\n",
    "We generally don't want the temperature setting to\n",
    "be too **small** because there will not be much deviation\n",
    "between sample sequences. Lower temperature will mean that\n",
    "less of our model's predictions will be left up to probability.\n",
    "\"\"\""
   ]
  },
  {
   "cell_type": "markdown",
   "metadata": {
    "colab_type": "text",
    "id": "Z8anzNZN3jrt"
   },
   "source": [
    "## Question 4\n",
    "\n",
    "In parts 2-3, we've explored the decoder portion of the autoencoder. In this section,\n",
    "let's explore the **encoder**. In particular, the encoder RNN gives us \n",
    "embeddings of news headlines!\n",
    "\n",
    "First, let's load the **validation** data set:"
   ]
  },
  {
   "cell_type": "code",
   "execution_count": 22,
   "metadata": {
    "colab": {},
    "colab_type": "code",
    "id": "zK53AT9U3jrw"
   },
   "outputs": [],
   "source": [
    "valid_data = torchtext.data.TabularDataset(\n",
    "    path=valid_path,                # data file path\n",
    "    format=\"tsv\",                   # fields are separated by a tab\n",
    "    fields=[('title', text_field)]) # list of fields (we have only one)"
   ]
  },
  {
   "cell_type": "markdown",
   "metadata": {
    "colab_type": "text",
    "id": "FZG0Fe7R3jr0"
   },
   "source": [
    "### Part (a) -- 2 pt\n",
    "\n",
    "Compute the embeddings of every item in the validation set. Then, store the\n",
    "result in a single PyTorch tensor of shape `[19046, 128]`, since there are\n",
    "19,046 headlines in the validation set."
   ]
  },
  {
   "cell_type": "code",
   "execution_count": 23,
   "metadata": {
    "colab": {},
    "colab_type": "code",
    "id": "N-hQl4u13jr1"
   },
   "outputs": [],
   "source": [
    "# Write your code here\n",
    "# Show that your resulting PyTorch tensor has shape `[19046, 128]`\n",
    "valid = torch.zeros([19046, 128])\n",
    "for i in range(len(valid_data)):\n",
    "    valid[i, :] = model.encode(torch.Tensor([vocab.stoi[w] for w in valid_data[i].title]).long().unsqueeze(0))[0, 0, :]"
   ]
  },
  {
   "cell_type": "markdown",
   "metadata": {
    "colab_type": "text",
    "id": "e7_Pig1i3jr6"
   },
   "source": [
    "### Part (b) -- 2 pt\n",
    "\n",
    "Find the 5 closest headlines to the headline `valid_data[13]`. Use the\n",
    "cosine similarity to determine closeness. (Hint: You can use code from Project 2)"
   ]
  },
  {
   "cell_type": "code",
   "execution_count": 24,
   "metadata": {
    "colab": {},
    "colab_type": "code",
    "id": "kiEZ1rIj3jr7",
    "outputId": "f138d3c1-dc81-4a0c-f887-3b46aa680013"
   },
   "outputs": [
    {
     "name": "stdout",
     "output_type": "stream",
     "text": [
      "Title 13 is: \n",
      "['<bos>', 'asia', 'takes', 'heart', 'from', 'new', 'year', 'gains', 'in', 'u.s.', 'stock', 'futures', '<eos>']\n",
      "The five closest titles to title 13 are: \n",
      "['<bos>', 'italy', \"'s\", 'salvini', 'loses', 'aura', 'of', 'invincibility', 'in', 'emilia', 'setback', '<eos>']\n",
      "['<bos>', 'saudi', ',', 'russia', 'look', 'to', 'seal', 'deeper', 'output', 'cuts', 'with', 'oil', 'producers', '<eos>']\n",
      "['<bos>', 'eu', 'orders', 'quarantine', 'for', 'staff', 'who', 'traveled', 'to', 'northern', 'italy', '<eos>']\n",
      "['<bos>', 'update', '_num_-italy', \"'s\", 'prime', 'minister', 'says', 'new', 'government', 'will', 'bicker', 'less', '<eos>']\n",
      "['<bos>', 'portugal', \"'s\", 'moura', 'pays', 'tribute', 'to', 'cod', 'fishermen', 'at', 'milan', 'fashion', 'close', '<eos>']\n"
     ]
    }
   ],
   "source": [
    "# Write your code here. Make sure to include the actual 5 closest headlines.\n",
    "norms = torch.norm(valid, dim=1)\n",
    "title_emb_norm = (valid.T/norms).T\n",
    "similarities = torch.matmul(title_emb_norm, title_emb_norm.T)\n",
    "\n",
    "l = similarities[13,:]\n",
    "maxes = []\n",
    "for i in range(5):\n",
    "    big = None\n",
    "    for proximal in range(len(l)):\n",
    "        if (proximal != 13):\n",
    "            if big == None or (l[proximal] > l[big] and proximal not in maxes):\n",
    "                big = proximal\n",
    "    maxes.append(big)\n",
    "\n",
    "print(\"Title 13 is: \")\n",
    "print(valid_data[13].title)\n",
    "print(\"The five closest titles to title 13 are: \")\n",
    "for title in maxes:\n",
    "    print(valid_data[title].title)"
   ]
  },
  {
   "cell_type": "markdown",
   "metadata": {
    "colab_type": "text",
    "id": "M4M5GnS83jsA"
   },
   "source": [
    "### Part (c) -- 2 pt\n",
    "\n",
    "Find the 5 closest headlines to another headline of your choice."
   ]
  },
  {
   "cell_type": "code",
   "execution_count": 25,
   "metadata": {
    "colab": {},
    "colab_type": "code",
    "id": "LF51bWRJ3jsB",
    "outputId": "6181424f-fd93-4930-f793-f6ff71179a70"
   },
   "outputs": [
    {
     "name": "stdout",
     "output_type": "stream",
     "text": [
      "Title 19045 is: \n",
      "['<bos>', 'washington', 'state', 'man', 'becomes', 'first', 'u.s.', 'coronavirus', 'fatality', '<eos>']\n",
      "The five closest titles to title 19045 are: \n",
      "['<bos>', 'uber', 'stripped', 'of', 'london', 'operating', 'license', ',', 'again', '<eos>']\n",
      "['<bos>', 'u.s.', 'trade', 'offensive', 'takes', 'out', 'wto', 'as', 'global', 'arbiter', '<eos>']\n",
      "['<bos>', 'special', 'report-san', 'francisco', 'treasure', 'island', \"'s\", 'toxic', 'history', '<eos>']\n",
      "['<bos>', 'u.s.', 'house', 'leader', 'to', 'back', 'bill', 'limiting', 'court', 'secrecy', '<eos>']\n",
      "['<bos>', 'feature-u.s.', 'lawmakers', 'tuck', 'into', 'juicy', 'debate', 'over', 'meat', 'substitutes', '<eos>']\n"
     ]
    }
   ],
   "source": [
    "# Write your code here. \n",
    "# Make sure to include the original headline and the 5 closest headlines.\n",
    "l = similarities[19045,:]\n",
    "maxes = []\n",
    "for i in range(5):\n",
    "    big = None\n",
    "    for proximal in range(len(l)):\n",
    "        if (proximal != 19045):\n",
    "            if big == None or (l[proximal] > l[big] and proximal not in maxes):\n",
    "                big = proximal\n",
    "    maxes.append(big)\n",
    "\n",
    "print(\"Title 19045 is: \")\n",
    "print(valid_data[19045].title)\n",
    "print(\"The five closest titles to title 19045 are: \")\n",
    "for title in maxes:\n",
    "    print(valid_data[title].title)"
   ]
  },
  {
   "cell_type": "markdown",
   "metadata": {
    "colab_type": "text",
    "id": "TEhkpi3G3jsG"
   },
   "source": [
    "### Part (d) -- 4 pts\n",
    "\n",
    "Choose two headlines from the validation set, and find their embeddings.\n",
    "We will **interpolate** between the two embeddings like we did in\n",
    "https://www.cs.toronto.edu/~lczhang/321/lec/autoencoder_notes.html\n",
    "\n",
    "Find 3 points, equally spaced between the embeddings of your headlines.\n",
    "If we let $e_0$ be the embedding of your first headline and $e_4$ be\n",
    "the embedding of your second headline, your three points should be:\n",
    "\n",
    "\\begin{align*}\n",
    "e_1 &=  0.75 e_0 + 0.25 e_4 \\\\\n",
    "e_2 &=  0.50 e_0 + 0.50 e_4 \\\\\n",
    "e_3 &=  0.25 e_0 + 0.75 e_4 \\\\\n",
    "\\end{align*}\n",
    "\n",
    "Decode each of $e_1$, $e_2$ and $e_3$ five times, with a temperature setting\n",
    "that shows some variation in the generated sequences, while generating sequences\n",
    "that makes sense."
   ]
  },
  {
   "cell_type": "code",
   "execution_count": 27,
   "metadata": {
    "colab": {},
    "colab_type": "code",
    "id": "RIgT3vDo3jsG",
    "outputId": "7660b3b6-1336-451e-ddfd-281869eca05f"
   },
   "outputs": [
    {
     "name": "stdout",
     "output_type": "stream",
     "text": [
      "Interpolation 1:\n",
      "['washington', 'world', 'canada', 'victim', 'first', 'fuel', 'weeks', 'trump']\n",
      "['major', '<unk>', 'bidens', 'lebanon', 'eight', 'u.s.', 'profit', 'billion']\n",
      "['major', '<unk>', 'admissions', 'house', 'leaps', 'u.s.', 'delivery', 'seat']\n",
      "['major', 'sues', 'hospital', 'heat', 'pence', 'china', 'controversial', 'jv']\n",
      "['experimental', 'open', 'british', 'worldwide', 'envoy', 'gdp', 'budget', 'at']\n",
      "Interpolation 2:\n",
      "['major', 'markets-stocks', 'local', 'control', 'u.s.', '<unk>', 'export', 'coronavirus', '_num_']\n",
      "['major', 'markets-stocks', 'state', 'dates', 'wall', 'taiwan', 'impact', 'in', 'stock']\n",
      "['major', 'disarray', 'firm', 'back', 'death', '-official', 'china', 'fuel', '_num_']\n",
      "['pressed', 'volcanic', 'office', 'dirty', 'lowest', 'first', 'groups', 'and']\n",
      "['york', 'as', 'fires', 'ebola', 'of', 'first', 'weekly', 'prosecutors', 'paris']\n",
      "Interpolation 3:\n",
      "['major', 'pulled', 'new', 'tests', 'party', ';', 'fund', 'bill', '_num_', '<pad>']\n",
      "['asia', 'spanish', 'at', 'facing', 'first', 'bln', 'after', 'power', 'focus', '<pad>']\n",
      "['seconds', \"'s\", 'stall', 'as', 'cyclone', 'judge', 'field', 'up', 'next', '<pad>']\n",
      "['wta', 'storm', 'britain', 'in', 'regulator', 'top', 'around', 'u.s.', 'gold', 'alibaba']\n",
      "['day', 'considers', 'two', 'research', 'ahead', 'first', 'india', 'large', 'to', 'sars']\n"
     ]
    }
   ],
   "source": [
    "# Write your code here. Include your generated sequences.\n",
    "e1 = valid[13]\n",
    "e2 = valid[19045]\n",
    "embedding_values = []\n",
    "for i in range(0, 4):\n",
    "    e = e1 * (i/4) + e2 * (4-i)/4\n",
    "    embedding_values.append(e)\n",
    "    \n",
    "embedding_values = torch.stack(embedding_values)\n",
    "\n",
    "print(\"Interpolation 1:\")\n",
    "\n",
    "print(sample_sequence(model, embedding_values[1].unsqueeze(0).unsqueeze(0), temperature=0.5))\n",
    "print(sample_sequence(model, embedding_values[1].unsqueeze(0).unsqueeze(0), temperature=0.7))\n",
    "print(sample_sequence(model, embedding_values[1].unsqueeze(0).unsqueeze(0), temperature=0.9))\n",
    "print(sample_sequence(model, embedding_values[1].unsqueeze(0).unsqueeze(0), temperature=1.5))\n",
    "print(sample_sequence(model, embedding_values[1].unsqueeze(0).unsqueeze(0), temperature=2))\n",
    "\n",
    "print(\"Interpolation 2:\")\n",
    "\n",
    "print(sample_sequence(model, embedding_values[2].unsqueeze(0).unsqueeze(0), temperature=0.5))\n",
    "print(sample_sequence(model, embedding_values[2].unsqueeze(0).unsqueeze(0), temperature=0.7))\n",
    "print(sample_sequence(model, embedding_values[2].unsqueeze(0).unsqueeze(0), temperature=0.9))\n",
    "print(sample_sequence(model, embedding_values[2].unsqueeze(0).unsqueeze(0), temperature=1.5))\n",
    "print(sample_sequence(model, embedding_values[2].unsqueeze(0).unsqueeze(0), temperature=2))\n",
    "\n",
    "print(\"Interpolation 3:\")\n",
    "\n",
    "print(sample_sequence(model, embedding_values[3].unsqueeze(0).unsqueeze(0), temperature=0.5))\n",
    "print(sample_sequence(model, embedding_values[3].unsqueeze(0).unsqueeze(0), temperature=0.7))\n",
    "print(sample_sequence(model, embedding_values[3].unsqueeze(0).unsqueeze(0), temperature=0.9))\n",
    "print(sample_sequence(model, embedding_values[3].unsqueeze(0).unsqueeze(0), temperature=1.5))\n",
    "print(sample_sequence(model, embedding_values[3].unsqueeze(0).unsqueeze(0), temperature=2))"
   ]
  },
  {
   "cell_type": "code",
   "execution_count": 0,
   "metadata": {
    "colab": {},
    "colab_type": "code",
    "id": "6VFh4dCn3jsL"
   },
   "outputs": [],
   "source": []
  }
 ],
 "metadata": {
  "accelerator": "GPU",
  "colab": {
   "collapsed_sections": [],
   "name": "p4.ipynb",
   "provenance": []
  },
  "kernelspec": {
   "display_name": "Python 3",
   "language": "python",
   "name": "python3"
  },
  "language_info": {
   "codemirror_mode": {
    "name": "ipython",
    "version": 3
   },
   "file_extension": ".py",
   "mimetype": "text/x-python",
   "name": "python",
   "nbconvert_exporter": "python",
   "pygments_lexer": "ipython3",
   "version": "3.7.3"
  }
 },
 "nbformat": 4,
 "nbformat_minor": 1
}
